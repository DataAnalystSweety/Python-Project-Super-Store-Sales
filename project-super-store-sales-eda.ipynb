{
 "cells": [
  {
   "cell_type": "markdown",
   "id": "b675dd2c",
   "metadata": {
    "papermill": {
     "duration": 0.009851,
     "end_time": "2023-09-02T08:42:17.842066",
     "exception": false,
     "start_time": "2023-09-02T08:42:17.832215",
     "status": "completed"
    },
    "tags": []
   },
   "source": [
    "**Hi there! In this EDA project I will be perfroming Superstore sales analysis which is present on kaggle platform itself.\n",
    "I will be using multiple libraries in this project which will help me in analysing and visualizing the dataset. \n",
    "Visualizing is important as it helps people/developers see, interact with, and better understand the data.**"
   ]
  },
  {
   "cell_type": "markdown",
   "id": "a07359d2",
   "metadata": {
    "papermill": {
     "duration": 0.008991,
     "end_time": "2023-09-02T08:42:17.861292",
     "exception": false,
     "start_time": "2023-09-02T08:42:17.852301",
     "status": "completed"
    },
    "tags": []
   },
   "source": [
    "# Data Exploration \n",
    "The columns that are given in dataset some of them are self-explanatory so I did not write explanation.\n",
    "\n",
    "**Order ID: **A unique identifier for each order placed.\n",
    "\n",
    "**Order Date:** The date when the order was placed.\n",
    "\n",
    "**Ship Date:** The date when the ordered items were shipped.\n",
    "\n",
    "**Ship Mode:** The shipping mode chosen for the order (e.g., Second Class).\n",
    "\n",
    "**Customer ID:** A unique identifier for each customer.\n",
    "\n",
    "**Customer Name:** The name of the customer placing the order.\n",
    "\n",
    "**Segment: **The market segment to which the customer belongs (e.g., Consumer, Corporate)\n",
    "\n",
    "**Country:** The country where the order was placed (e.g., United States).\n",
    "\n",
    "**City: **The city where the order was placed.\n",
    "\n",
    "**State: **The state within the country where the order was placed.\n",
    "\n",
    "**Postal Code:** The postal code associated with the order location.\n",
    "\n",
    "**Region:** The region of the country where the order was placed (e.g., South, West).\n",
    "\n",
    "**Product ID: ** A unique identifier for each product.\n",
    "\n",
    "**Category:** The broad category to which the product belongs (e.g., Furniture, Office Supplies).\n",
    "\n",
    "**Sub-Category: **The specific sub-category to which the product belongs (e.g., Bookcases, Chairs)\n",
    "\n",
    "**Product Name:** The name of the product ordered.\n",
    "\n",
    "**Sales:** The sales amount associated with the order."
   ]
  },
  {
   "cell_type": "markdown",
   "id": "614de7cf",
   "metadata": {
    "papermill": {
     "duration": 0.009294,
     "end_time": "2023-09-02T08:42:17.880405",
     "exception": false,
     "start_time": "2023-09-02T08:42:17.871111",
     "status": "completed"
    },
    "tags": []
   },
   "source": [
    "# **Libraries to be used during this project**"
   ]
  },
  {
   "cell_type": "code",
   "execution_count": 1,
   "id": "e4d1901f",
   "metadata": {
    "execution": {
     "iopub.execute_input": "2023-09-02T08:42:17.902719Z",
     "iopub.status.busy": "2023-09-02T08:42:17.902356Z",
     "iopub.status.idle": "2023-09-02T08:42:19.273696Z",
     "shell.execute_reply": "2023-09-02T08:42:19.272829Z"
    },
    "papermill": {
     "duration": 1.385388,
     "end_time": "2023-09-02T08:42:19.276356",
     "exception": false,
     "start_time": "2023-09-02T08:42:17.890968",
     "status": "completed"
    },
    "tags": []
   },
   "outputs": [
    {
     "name": "stderr",
     "output_type": "stream",
     "text": [
      "/opt/conda/lib/python3.10/site-packages/scipy/__init__.py:146: UserWarning: A NumPy version >=1.16.5 and <1.23.0 is required for this version of SciPy (detected version 1.23.5\n",
      "  warnings.warn(f\"A NumPy version >={np_minversion} and <{np_maxversion}\"\n"
     ]
    }
   ],
   "source": [
    "import numpy as np \n",
    "import pandas as pd\n",
    "import matplotlib\n",
    "import matplotlib.pyplot as plt\n",
    "import seaborn as sns"
   ]
  },
  {
   "cell_type": "markdown",
   "id": "760b94e5",
   "metadata": {
    "papermill": {
     "duration": 0.009018,
     "end_time": "2023-09-02T08:42:19.295583",
     "exception": false,
     "start_time": "2023-09-02T08:42:19.286565",
     "status": "completed"
    },
    "tags": []
   },
   "source": [
    "# Importing Data Set\n"
   ]
  },
  {
   "cell_type": "code",
   "execution_count": 2,
   "id": "acdd5ec8",
   "metadata": {
    "execution": {
     "iopub.execute_input": "2023-09-02T08:42:19.317566Z",
     "iopub.status.busy": "2023-09-02T08:42:19.316753Z",
     "iopub.status.idle": "2023-09-02T08:42:19.450027Z",
     "shell.execute_reply": "2023-09-02T08:42:19.448979Z"
    },
    "papermill": {
     "duration": 0.14745,
     "end_time": "2023-09-02T08:42:19.452375",
     "exception": false,
     "start_time": "2023-09-02T08:42:19.304925",
     "status": "completed"
    },
    "tags": []
   },
   "outputs": [
    {
     "data": {
      "text/html": [
       "<div>\n",
       "<style scoped>\n",
       "    .dataframe tbody tr th:only-of-type {\n",
       "        vertical-align: middle;\n",
       "    }\n",
       "\n",
       "    .dataframe tbody tr th {\n",
       "        vertical-align: top;\n",
       "    }\n",
       "\n",
       "    .dataframe thead th {\n",
       "        text-align: right;\n",
       "    }\n",
       "</style>\n",
       "<table border=\"1\" class=\"dataframe\">\n",
       "  <thead>\n",
       "    <tr style=\"text-align: right;\">\n",
       "      <th></th>\n",
       "      <th>Order ID</th>\n",
       "      <th>Order Date</th>\n",
       "      <th>Ship Date</th>\n",
       "      <th>Ship Mode</th>\n",
       "      <th>Customer ID</th>\n",
       "      <th>Customer Name</th>\n",
       "      <th>Segment</th>\n",
       "      <th>Country</th>\n",
       "      <th>City</th>\n",
       "      <th>State</th>\n",
       "      <th>Postal Code</th>\n",
       "      <th>Region</th>\n",
       "      <th>Product ID</th>\n",
       "      <th>Category</th>\n",
       "      <th>Sub-Category</th>\n",
       "      <th>Product Name</th>\n",
       "      <th>Sales</th>\n",
       "    </tr>\n",
       "    <tr>\n",
       "      <th>Row ID</th>\n",
       "      <th></th>\n",
       "      <th></th>\n",
       "      <th></th>\n",
       "      <th></th>\n",
       "      <th></th>\n",
       "      <th></th>\n",
       "      <th></th>\n",
       "      <th></th>\n",
       "      <th></th>\n",
       "      <th></th>\n",
       "      <th></th>\n",
       "      <th></th>\n",
       "      <th></th>\n",
       "      <th></th>\n",
       "      <th></th>\n",
       "      <th></th>\n",
       "      <th></th>\n",
       "    </tr>\n",
       "  </thead>\n",
       "  <tbody>\n",
       "    <tr>\n",
       "      <th>1</th>\n",
       "      <td>CA-2017-152156</td>\n",
       "      <td>08/11/2017</td>\n",
       "      <td>11/11/2017</td>\n",
       "      <td>Second Class</td>\n",
       "      <td>CG-12520</td>\n",
       "      <td>Claire Gute</td>\n",
       "      <td>Consumer</td>\n",
       "      <td>United States</td>\n",
       "      <td>Henderson</td>\n",
       "      <td>Kentucky</td>\n",
       "      <td>42420.0</td>\n",
       "      <td>South</td>\n",
       "      <td>FUR-BO-10001798</td>\n",
       "      <td>Furniture</td>\n",
       "      <td>Bookcases</td>\n",
       "      <td>Bush Somerset Collection Bookcase</td>\n",
       "      <td>261.9600</td>\n",
       "    </tr>\n",
       "    <tr>\n",
       "      <th>2</th>\n",
       "      <td>CA-2017-152156</td>\n",
       "      <td>08/11/2017</td>\n",
       "      <td>11/11/2017</td>\n",
       "      <td>Second Class</td>\n",
       "      <td>CG-12520</td>\n",
       "      <td>Claire Gute</td>\n",
       "      <td>Consumer</td>\n",
       "      <td>United States</td>\n",
       "      <td>Henderson</td>\n",
       "      <td>Kentucky</td>\n",
       "      <td>42420.0</td>\n",
       "      <td>South</td>\n",
       "      <td>FUR-CH-10000454</td>\n",
       "      <td>Furniture</td>\n",
       "      <td>Chairs</td>\n",
       "      <td>Hon Deluxe Fabric Upholstered Stacking Chairs,...</td>\n",
       "      <td>731.9400</td>\n",
       "    </tr>\n",
       "    <tr>\n",
       "      <th>3</th>\n",
       "      <td>CA-2017-138688</td>\n",
       "      <td>12/06/2017</td>\n",
       "      <td>16/06/2017</td>\n",
       "      <td>Second Class</td>\n",
       "      <td>DV-13045</td>\n",
       "      <td>Darrin Van Huff</td>\n",
       "      <td>Corporate</td>\n",
       "      <td>United States</td>\n",
       "      <td>Los Angeles</td>\n",
       "      <td>California</td>\n",
       "      <td>90036.0</td>\n",
       "      <td>West</td>\n",
       "      <td>OFF-LA-10000240</td>\n",
       "      <td>Office Supplies</td>\n",
       "      <td>Labels</td>\n",
       "      <td>Self-Adhesive Address Labels for Typewriters b...</td>\n",
       "      <td>14.6200</td>\n",
       "    </tr>\n",
       "    <tr>\n",
       "      <th>4</th>\n",
       "      <td>US-2016-108966</td>\n",
       "      <td>11/10/2016</td>\n",
       "      <td>18/10/2016</td>\n",
       "      <td>Standard Class</td>\n",
       "      <td>SO-20335</td>\n",
       "      <td>Sean O'Donnell</td>\n",
       "      <td>Consumer</td>\n",
       "      <td>United States</td>\n",
       "      <td>Fort Lauderdale</td>\n",
       "      <td>Florida</td>\n",
       "      <td>33311.0</td>\n",
       "      <td>South</td>\n",
       "      <td>FUR-TA-10000577</td>\n",
       "      <td>Furniture</td>\n",
       "      <td>Tables</td>\n",
       "      <td>Bretford CR4500 Series Slim Rectangular Table</td>\n",
       "      <td>957.5775</td>\n",
       "    </tr>\n",
       "    <tr>\n",
       "      <th>5</th>\n",
       "      <td>US-2016-108966</td>\n",
       "      <td>11/10/2016</td>\n",
       "      <td>18/10/2016</td>\n",
       "      <td>Standard Class</td>\n",
       "      <td>SO-20335</td>\n",
       "      <td>Sean O'Donnell</td>\n",
       "      <td>Consumer</td>\n",
       "      <td>United States</td>\n",
       "      <td>Fort Lauderdale</td>\n",
       "      <td>Florida</td>\n",
       "      <td>33311.0</td>\n",
       "      <td>South</td>\n",
       "      <td>OFF-ST-10000760</td>\n",
       "      <td>Office Supplies</td>\n",
       "      <td>Storage</td>\n",
       "      <td>Eldon Fold 'N Roll Cart System</td>\n",
       "      <td>22.3680</td>\n",
       "    </tr>\n",
       "  </tbody>\n",
       "</table>\n",
       "</div>"
      ],
      "text/plain": [
       "              Order ID  Order Date   Ship Date       Ship Mode Customer ID  \\\n",
       "Row ID                                                                       \n",
       "1       CA-2017-152156  08/11/2017  11/11/2017    Second Class    CG-12520   \n",
       "2       CA-2017-152156  08/11/2017  11/11/2017    Second Class    CG-12520   \n",
       "3       CA-2017-138688  12/06/2017  16/06/2017    Second Class    DV-13045   \n",
       "4       US-2016-108966  11/10/2016  18/10/2016  Standard Class    SO-20335   \n",
       "5       US-2016-108966  11/10/2016  18/10/2016  Standard Class    SO-20335   \n",
       "\n",
       "          Customer Name    Segment        Country             City  \\\n",
       "Row ID                                                               \n",
       "1           Claire Gute   Consumer  United States        Henderson   \n",
       "2           Claire Gute   Consumer  United States        Henderson   \n",
       "3       Darrin Van Huff  Corporate  United States      Los Angeles   \n",
       "4        Sean O'Donnell   Consumer  United States  Fort Lauderdale   \n",
       "5        Sean O'Donnell   Consumer  United States  Fort Lauderdale   \n",
       "\n",
       "             State  Postal Code Region       Product ID         Category  \\\n",
       "Row ID                                                                     \n",
       "1         Kentucky      42420.0  South  FUR-BO-10001798        Furniture   \n",
       "2         Kentucky      42420.0  South  FUR-CH-10000454        Furniture   \n",
       "3       California      90036.0   West  OFF-LA-10000240  Office Supplies   \n",
       "4          Florida      33311.0  South  FUR-TA-10000577        Furniture   \n",
       "5          Florida      33311.0  South  OFF-ST-10000760  Office Supplies   \n",
       "\n",
       "       Sub-Category                                       Product Name  \\\n",
       "Row ID                                                                   \n",
       "1         Bookcases                  Bush Somerset Collection Bookcase   \n",
       "2            Chairs  Hon Deluxe Fabric Upholstered Stacking Chairs,...   \n",
       "3            Labels  Self-Adhesive Address Labels for Typewriters b...   \n",
       "4            Tables      Bretford CR4500 Series Slim Rectangular Table   \n",
       "5           Storage                     Eldon Fold 'N Roll Cart System   \n",
       "\n",
       "           Sales  \n",
       "Row ID            \n",
       "1       261.9600  \n",
       "2       731.9400  \n",
       "3        14.6200  \n",
       "4       957.5775  \n",
       "5        22.3680  "
      ]
     },
     "execution_count": 2,
     "metadata": {},
     "output_type": "execute_result"
    }
   ],
   "source": [
    "df= pd.read_csv('/kaggle/input/sales-forecasting/train.csv', index_col='Row ID') # Made Row Id as Index\n",
    "df.head() "
   ]
  },
  {
   "cell_type": "markdown",
   "id": "e82c9ff7",
   "metadata": {
    "papermill": {
     "duration": 0.009422,
     "end_time": "2023-09-02T08:42:19.471556",
     "exception": false,
     "start_time": "2023-09-02T08:42:19.462134",
     "status": "completed"
    },
    "tags": []
   },
   "source": [
    "# **Shape of the data**"
   ]
  },
  {
   "cell_type": "code",
   "execution_count": 3,
   "id": "72adc44d",
   "metadata": {
    "execution": {
     "iopub.execute_input": "2023-09-02T08:42:19.492414Z",
     "iopub.status.busy": "2023-09-02T08:42:19.491986Z",
     "iopub.status.idle": "2023-09-02T08:42:19.498688Z",
     "shell.execute_reply": "2023-09-02T08:42:19.497730Z"
    },
    "papermill": {
     "duration": 0.019467,
     "end_time": "2023-09-02T08:42:19.500566",
     "exception": false,
     "start_time": "2023-09-02T08:42:19.481099",
     "status": "completed"
    },
    "tags": []
   },
   "outputs": [
    {
     "data": {
      "text/plain": [
       "(9800, 17)"
      ]
     },
     "execution_count": 3,
     "metadata": {},
     "output_type": "execute_result"
    }
   ],
   "source": [
    "df.shape"
   ]
  },
  {
   "cell_type": "markdown",
   "id": "20972673",
   "metadata": {
    "papermill": {
     "duration": 0.009239,
     "end_time": "2023-09-02T08:42:19.519879",
     "exception": false,
     "start_time": "2023-09-02T08:42:19.510640",
     "status": "completed"
    },
    "tags": []
   },
   "source": [
    "# **Description of data**"
   ]
  },
  {
   "cell_type": "code",
   "execution_count": 4,
   "id": "77bcb9d9",
   "metadata": {
    "execution": {
     "iopub.execute_input": "2023-09-02T08:42:19.540979Z",
     "iopub.status.busy": "2023-09-02T08:42:19.540264Z",
     "iopub.status.idle": "2023-09-02T08:42:19.560752Z",
     "shell.execute_reply": "2023-09-02T08:42:19.559661Z"
    },
    "papermill": {
     "duration": 0.033477,
     "end_time": "2023-09-02T08:42:19.562999",
     "exception": false,
     "start_time": "2023-09-02T08:42:19.529522",
     "status": "completed"
    },
    "tags": []
   },
   "outputs": [
    {
     "data": {
      "text/html": [
       "<div>\n",
       "<style scoped>\n",
       "    .dataframe tbody tr th:only-of-type {\n",
       "        vertical-align: middle;\n",
       "    }\n",
       "\n",
       "    .dataframe tbody tr th {\n",
       "        vertical-align: top;\n",
       "    }\n",
       "\n",
       "    .dataframe thead th {\n",
       "        text-align: right;\n",
       "    }\n",
       "</style>\n",
       "<table border=\"1\" class=\"dataframe\">\n",
       "  <thead>\n",
       "    <tr style=\"text-align: right;\">\n",
       "      <th></th>\n",
       "      <th>Postal Code</th>\n",
       "      <th>Sales</th>\n",
       "    </tr>\n",
       "  </thead>\n",
       "  <tbody>\n",
       "    <tr>\n",
       "      <th>count</th>\n",
       "      <td>9789.000000</td>\n",
       "      <td>9800.000000</td>\n",
       "    </tr>\n",
       "    <tr>\n",
       "      <th>mean</th>\n",
       "      <td>55273.322403</td>\n",
       "      <td>230.769059</td>\n",
       "    </tr>\n",
       "    <tr>\n",
       "      <th>std</th>\n",
       "      <td>32041.223413</td>\n",
       "      <td>626.651875</td>\n",
       "    </tr>\n",
       "    <tr>\n",
       "      <th>min</th>\n",
       "      <td>1040.000000</td>\n",
       "      <td>0.444000</td>\n",
       "    </tr>\n",
       "    <tr>\n",
       "      <th>25%</th>\n",
       "      <td>23223.000000</td>\n",
       "      <td>17.248000</td>\n",
       "    </tr>\n",
       "    <tr>\n",
       "      <th>50%</th>\n",
       "      <td>58103.000000</td>\n",
       "      <td>54.490000</td>\n",
       "    </tr>\n",
       "    <tr>\n",
       "      <th>75%</th>\n",
       "      <td>90008.000000</td>\n",
       "      <td>210.605000</td>\n",
       "    </tr>\n",
       "    <tr>\n",
       "      <th>max</th>\n",
       "      <td>99301.000000</td>\n",
       "      <td>22638.480000</td>\n",
       "    </tr>\n",
       "  </tbody>\n",
       "</table>\n",
       "</div>"
      ],
      "text/plain": [
       "        Postal Code         Sales\n",
       "count   9789.000000   9800.000000\n",
       "mean   55273.322403    230.769059\n",
       "std    32041.223413    626.651875\n",
       "min     1040.000000      0.444000\n",
       "25%    23223.000000     17.248000\n",
       "50%    58103.000000     54.490000\n",
       "75%    90008.000000    210.605000\n",
       "max    99301.000000  22638.480000"
      ]
     },
     "execution_count": 4,
     "metadata": {},
     "output_type": "execute_result"
    }
   ],
   "source": [
    "df.describe() "
   ]
  },
  {
   "cell_type": "markdown",
   "id": "ffd4d80a",
   "metadata": {
    "papermill": {
     "duration": 0.009439,
     "end_time": "2023-09-02T08:42:19.582170",
     "exception": false,
     "start_time": "2023-09-02T08:42:19.572731",
     "status": "completed"
    },
    "tags": []
   },
   "source": [
    "# **Information of the data**\n",
    "**But what does the columns mean and what is it used for?**"
   ]
  },
  {
   "cell_type": "code",
   "execution_count": 5,
   "id": "e7c8c300",
   "metadata": {
    "execution": {
     "iopub.execute_input": "2023-09-02T08:42:19.604057Z",
     "iopub.status.busy": "2023-09-02T08:42:19.603113Z",
     "iopub.status.idle": "2023-09-02T08:42:19.645166Z",
     "shell.execute_reply": "2023-09-02T08:42:19.643628Z"
    },
    "papermill": {
     "duration": 0.055208,
     "end_time": "2023-09-02T08:42:19.647253",
     "exception": false,
     "start_time": "2023-09-02T08:42:19.592045",
     "status": "completed"
    },
    "tags": []
   },
   "outputs": [
    {
     "name": "stdout",
     "output_type": "stream",
     "text": [
      "<class 'pandas.core.frame.DataFrame'>\n",
      "Int64Index: 9800 entries, 1 to 9800\n",
      "Data columns (total 17 columns):\n",
      " #   Column         Non-Null Count  Dtype  \n",
      "---  ------         --------------  -----  \n",
      " 0   Order ID       9800 non-null   object \n",
      " 1   Order Date     9800 non-null   object \n",
      " 2   Ship Date      9800 non-null   object \n",
      " 3   Ship Mode      9800 non-null   object \n",
      " 4   Customer ID    9800 non-null   object \n",
      " 5   Customer Name  9800 non-null   object \n",
      " 6   Segment        9800 non-null   object \n",
      " 7   Country        9800 non-null   object \n",
      " 8   City           9800 non-null   object \n",
      " 9   State          9800 non-null   object \n",
      " 10  Postal Code    9789 non-null   float64\n",
      " 11  Region         9800 non-null   object \n",
      " 12  Product ID     9800 non-null   object \n",
      " 13  Category       9800 non-null   object \n",
      " 14  Sub-Category   9800 non-null   object \n",
      " 15  Product Name   9800 non-null   object \n",
      " 16  Sales          9800 non-null   float64\n",
      "dtypes: float64(2), object(15)\n",
      "memory usage: 1.3+ MB\n"
     ]
    }
   ],
   "source": [
    "df.info()"
   ]
  },
  {
   "cell_type": "markdown",
   "id": "4e8c8837",
   "metadata": {
    "papermill": {
     "duration": 0.009748,
     "end_time": "2023-09-02T08:42:19.667101",
     "exception": false,
     "start_time": "2023-09-02T08:42:19.657353",
     "status": "completed"
    },
    "tags": []
   },
   "source": [
    "**Insights:\n",
    "1. Postal code column have null values\n",
    "2. Order date and Ship Date should be in Date datatypes.**"
   ]
  },
  {
   "cell_type": "markdown",
   "id": "b1a6a061",
   "metadata": {
    "papermill": {
     "duration": 0.009567,
     "end_time": "2023-09-02T08:42:19.686714",
     "exception": false,
     "start_time": "2023-09-02T08:42:19.677147",
     "status": "completed"
    },
    "tags": []
   },
   "source": [
    "# **Check null values**"
   ]
  },
  {
   "cell_type": "code",
   "execution_count": 6,
   "id": "71bd09a5",
   "metadata": {
    "execution": {
     "iopub.execute_input": "2023-09-02T08:42:19.708959Z",
     "iopub.status.busy": "2023-09-02T08:42:19.708169Z",
     "iopub.status.idle": "2023-09-02T08:42:19.738706Z",
     "shell.execute_reply": "2023-09-02T08:42:19.737598Z"
    },
    "papermill": {
     "duration": 0.044253,
     "end_time": "2023-09-02T08:42:19.740933",
     "exception": false,
     "start_time": "2023-09-02T08:42:19.696680",
     "status": "completed"
    },
    "tags": []
   },
   "outputs": [
    {
     "data": {
      "text/plain": [
       "Order ID          0\n",
       "Order Date        0\n",
       "Ship Date         0\n",
       "Ship Mode         0\n",
       "Customer ID       0\n",
       "Customer Name     0\n",
       "Segment           0\n",
       "Country           0\n",
       "City              0\n",
       "State             0\n",
       "Postal Code      11\n",
       "Region            0\n",
       "Product ID        0\n",
       "Category          0\n",
       "Sub-Category      0\n",
       "Product Name      0\n",
       "Sales             0\n",
       "dtype: int64"
      ]
     },
     "execution_count": 6,
     "metadata": {},
     "output_type": "execute_result"
    }
   ],
   "source": [
    "df.isnull().sum()"
   ]
  },
  {
   "cell_type": "markdown",
   "id": "4964902a",
   "metadata": {
    "papermill": {
     "duration": 0.009942,
     "end_time": "2023-09-02T08:42:19.761716",
     "exception": false,
     "start_time": "2023-09-02T08:42:19.751774",
     "status": "completed"
    },
    "tags": []
   },
   "source": [
    "# **See Null Rows**"
   ]
  },
  {
   "cell_type": "code",
   "execution_count": 7,
   "id": "5d050f6d",
   "metadata": {
    "execution": {
     "iopub.execute_input": "2023-09-02T08:42:19.784423Z",
     "iopub.status.busy": "2023-09-02T08:42:19.783768Z",
     "iopub.status.idle": "2023-09-02T08:42:19.805434Z",
     "shell.execute_reply": "2023-09-02T08:42:19.804315Z"
    },
    "papermill": {
     "duration": 0.035661,
     "end_time": "2023-09-02T08:42:19.807701",
     "exception": false,
     "start_time": "2023-09-02T08:42:19.772040",
     "status": "completed"
    },
    "tags": []
   },
   "outputs": [
    {
     "data": {
      "text/html": [
       "<div>\n",
       "<style scoped>\n",
       "    .dataframe tbody tr th:only-of-type {\n",
       "        vertical-align: middle;\n",
       "    }\n",
       "\n",
       "    .dataframe tbody tr th {\n",
       "        vertical-align: top;\n",
       "    }\n",
       "\n",
       "    .dataframe thead th {\n",
       "        text-align: right;\n",
       "    }\n",
       "</style>\n",
       "<table border=\"1\" class=\"dataframe\">\n",
       "  <thead>\n",
       "    <tr style=\"text-align: right;\">\n",
       "      <th></th>\n",
       "      <th>Order ID</th>\n",
       "      <th>Order Date</th>\n",
       "      <th>Ship Date</th>\n",
       "      <th>Ship Mode</th>\n",
       "      <th>Customer ID</th>\n",
       "      <th>Customer Name</th>\n",
       "      <th>Segment</th>\n",
       "      <th>Country</th>\n",
       "      <th>City</th>\n",
       "      <th>State</th>\n",
       "      <th>Postal Code</th>\n",
       "      <th>Region</th>\n",
       "      <th>Product ID</th>\n",
       "      <th>Category</th>\n",
       "      <th>Sub-Category</th>\n",
       "      <th>Product Name</th>\n",
       "      <th>Sales</th>\n",
       "    </tr>\n",
       "    <tr>\n",
       "      <th>Row ID</th>\n",
       "      <th></th>\n",
       "      <th></th>\n",
       "      <th></th>\n",
       "      <th></th>\n",
       "      <th></th>\n",
       "      <th></th>\n",
       "      <th></th>\n",
       "      <th></th>\n",
       "      <th></th>\n",
       "      <th></th>\n",
       "      <th></th>\n",
       "      <th></th>\n",
       "      <th></th>\n",
       "      <th></th>\n",
       "      <th></th>\n",
       "      <th></th>\n",
       "      <th></th>\n",
       "    </tr>\n",
       "  </thead>\n",
       "  <tbody>\n",
       "    <tr>\n",
       "      <th>2235</th>\n",
       "      <td>CA-2018-104066</td>\n",
       "      <td>05/12/2018</td>\n",
       "      <td>10/12/2018</td>\n",
       "      <td>Standard Class</td>\n",
       "      <td>QJ-19255</td>\n",
       "      <td>Quincy Jones</td>\n",
       "      <td>Corporate</td>\n",
       "      <td>United States</td>\n",
       "      <td>Burlington</td>\n",
       "      <td>Vermont</td>\n",
       "      <td>NaN</td>\n",
       "      <td>East</td>\n",
       "      <td>TEC-AC-10001013</td>\n",
       "      <td>Technology</td>\n",
       "      <td>Accessories</td>\n",
       "      <td>Logitech ClearChat Comfort/USB Headset H390</td>\n",
       "      <td>205.03</td>\n",
       "    </tr>\n",
       "    <tr>\n",
       "      <th>5275</th>\n",
       "      <td>CA-2016-162887</td>\n",
       "      <td>07/11/2016</td>\n",
       "      <td>09/11/2016</td>\n",
       "      <td>Second Class</td>\n",
       "      <td>SV-20785</td>\n",
       "      <td>Stewart Visinsky</td>\n",
       "      <td>Consumer</td>\n",
       "      <td>United States</td>\n",
       "      <td>Burlington</td>\n",
       "      <td>Vermont</td>\n",
       "      <td>NaN</td>\n",
       "      <td>East</td>\n",
       "      <td>FUR-CH-10000595</td>\n",
       "      <td>Furniture</td>\n",
       "      <td>Chairs</td>\n",
       "      <td>Safco Contoured Stacking Chairs</td>\n",
       "      <td>715.20</td>\n",
       "    </tr>\n",
       "    <tr>\n",
       "      <th>8799</th>\n",
       "      <td>US-2017-150140</td>\n",
       "      <td>06/04/2017</td>\n",
       "      <td>10/04/2017</td>\n",
       "      <td>Standard Class</td>\n",
       "      <td>VM-21685</td>\n",
       "      <td>Valerie Mitchum</td>\n",
       "      <td>Home Office</td>\n",
       "      <td>United States</td>\n",
       "      <td>Burlington</td>\n",
       "      <td>Vermont</td>\n",
       "      <td>NaN</td>\n",
       "      <td>East</td>\n",
       "      <td>TEC-PH-10002555</td>\n",
       "      <td>Technology</td>\n",
       "      <td>Phones</td>\n",
       "      <td>Nortel Meridian M5316 Digital phone</td>\n",
       "      <td>1294.75</td>\n",
       "    </tr>\n",
       "    <tr>\n",
       "      <th>9147</th>\n",
       "      <td>US-2017-165505</td>\n",
       "      <td>23/01/2017</td>\n",
       "      <td>27/01/2017</td>\n",
       "      <td>Standard Class</td>\n",
       "      <td>CB-12535</td>\n",
       "      <td>Claudia Bergmann</td>\n",
       "      <td>Corporate</td>\n",
       "      <td>United States</td>\n",
       "      <td>Burlington</td>\n",
       "      <td>Vermont</td>\n",
       "      <td>NaN</td>\n",
       "      <td>East</td>\n",
       "      <td>TEC-AC-10002926</td>\n",
       "      <td>Technology</td>\n",
       "      <td>Accessories</td>\n",
       "      <td>Logitech Wireless Marathon Mouse M705</td>\n",
       "      <td>99.98</td>\n",
       "    </tr>\n",
       "    <tr>\n",
       "      <th>9148</th>\n",
       "      <td>US-2017-165505</td>\n",
       "      <td>23/01/2017</td>\n",
       "      <td>27/01/2017</td>\n",
       "      <td>Standard Class</td>\n",
       "      <td>CB-12535</td>\n",
       "      <td>Claudia Bergmann</td>\n",
       "      <td>Corporate</td>\n",
       "      <td>United States</td>\n",
       "      <td>Burlington</td>\n",
       "      <td>Vermont</td>\n",
       "      <td>NaN</td>\n",
       "      <td>East</td>\n",
       "      <td>OFF-AR-10003477</td>\n",
       "      <td>Office Supplies</td>\n",
       "      <td>Art</td>\n",
       "      <td>4009 Highlighters</td>\n",
       "      <td>8.04</td>\n",
       "    </tr>\n",
       "    <tr>\n",
       "      <th>9149</th>\n",
       "      <td>US-2017-165505</td>\n",
       "      <td>23/01/2017</td>\n",
       "      <td>27/01/2017</td>\n",
       "      <td>Standard Class</td>\n",
       "      <td>CB-12535</td>\n",
       "      <td>Claudia Bergmann</td>\n",
       "      <td>Corporate</td>\n",
       "      <td>United States</td>\n",
       "      <td>Burlington</td>\n",
       "      <td>Vermont</td>\n",
       "      <td>NaN</td>\n",
       "      <td>East</td>\n",
       "      <td>OFF-ST-10001526</td>\n",
       "      <td>Office Supplies</td>\n",
       "      <td>Storage</td>\n",
       "      <td>Iceberg Mobile Mega Data/Printer Cart</td>\n",
       "      <td>1564.29</td>\n",
       "    </tr>\n",
       "    <tr>\n",
       "      <th>9387</th>\n",
       "      <td>US-2018-127292</td>\n",
       "      <td>19/01/2018</td>\n",
       "      <td>23/01/2018</td>\n",
       "      <td>Standard Class</td>\n",
       "      <td>RM-19375</td>\n",
       "      <td>Raymond Messe</td>\n",
       "      <td>Consumer</td>\n",
       "      <td>United States</td>\n",
       "      <td>Burlington</td>\n",
       "      <td>Vermont</td>\n",
       "      <td>NaN</td>\n",
       "      <td>East</td>\n",
       "      <td>OFF-PA-10000157</td>\n",
       "      <td>Office Supplies</td>\n",
       "      <td>Paper</td>\n",
       "      <td>Xerox 191</td>\n",
       "      <td>79.92</td>\n",
       "    </tr>\n",
       "    <tr>\n",
       "      <th>9388</th>\n",
       "      <td>US-2018-127292</td>\n",
       "      <td>19/01/2018</td>\n",
       "      <td>23/01/2018</td>\n",
       "      <td>Standard Class</td>\n",
       "      <td>RM-19375</td>\n",
       "      <td>Raymond Messe</td>\n",
       "      <td>Consumer</td>\n",
       "      <td>United States</td>\n",
       "      <td>Burlington</td>\n",
       "      <td>Vermont</td>\n",
       "      <td>NaN</td>\n",
       "      <td>East</td>\n",
       "      <td>OFF-PA-10001970</td>\n",
       "      <td>Office Supplies</td>\n",
       "      <td>Paper</td>\n",
       "      <td>Xerox 1881</td>\n",
       "      <td>12.28</td>\n",
       "    </tr>\n",
       "    <tr>\n",
       "      <th>9389</th>\n",
       "      <td>US-2018-127292</td>\n",
       "      <td>19/01/2018</td>\n",
       "      <td>23/01/2018</td>\n",
       "      <td>Standard Class</td>\n",
       "      <td>RM-19375</td>\n",
       "      <td>Raymond Messe</td>\n",
       "      <td>Consumer</td>\n",
       "      <td>United States</td>\n",
       "      <td>Burlington</td>\n",
       "      <td>Vermont</td>\n",
       "      <td>NaN</td>\n",
       "      <td>East</td>\n",
       "      <td>OFF-AP-10000828</td>\n",
       "      <td>Office Supplies</td>\n",
       "      <td>Appliances</td>\n",
       "      <td>Avanti 4.4 Cu. Ft. Refrigerator</td>\n",
       "      <td>542.94</td>\n",
       "    </tr>\n",
       "    <tr>\n",
       "      <th>9390</th>\n",
       "      <td>US-2018-127292</td>\n",
       "      <td>19/01/2018</td>\n",
       "      <td>23/01/2018</td>\n",
       "      <td>Standard Class</td>\n",
       "      <td>RM-19375</td>\n",
       "      <td>Raymond Messe</td>\n",
       "      <td>Consumer</td>\n",
       "      <td>United States</td>\n",
       "      <td>Burlington</td>\n",
       "      <td>Vermont</td>\n",
       "      <td>NaN</td>\n",
       "      <td>East</td>\n",
       "      <td>OFF-EN-10001509</td>\n",
       "      <td>Office Supplies</td>\n",
       "      <td>Envelopes</td>\n",
       "      <td>Poly String Tie Envelopes</td>\n",
       "      <td>2.04</td>\n",
       "    </tr>\n",
       "    <tr>\n",
       "      <th>9742</th>\n",
       "      <td>CA-2016-117086</td>\n",
       "      <td>08/11/2016</td>\n",
       "      <td>12/11/2016</td>\n",
       "      <td>Standard Class</td>\n",
       "      <td>QJ-19255</td>\n",
       "      <td>Quincy Jones</td>\n",
       "      <td>Corporate</td>\n",
       "      <td>United States</td>\n",
       "      <td>Burlington</td>\n",
       "      <td>Vermont</td>\n",
       "      <td>NaN</td>\n",
       "      <td>East</td>\n",
       "      <td>FUR-BO-10004834</td>\n",
       "      <td>Furniture</td>\n",
       "      <td>Bookcases</td>\n",
       "      <td>Riverside Palais Royal Lawyers Bookcase, Royal...</td>\n",
       "      <td>4404.90</td>\n",
       "    </tr>\n",
       "  </tbody>\n",
       "</table>\n",
       "</div>"
      ],
      "text/plain": [
       "              Order ID  Order Date   Ship Date       Ship Mode Customer ID  \\\n",
       "Row ID                                                                       \n",
       "2235    CA-2018-104066  05/12/2018  10/12/2018  Standard Class    QJ-19255   \n",
       "5275    CA-2016-162887  07/11/2016  09/11/2016    Second Class    SV-20785   \n",
       "8799    US-2017-150140  06/04/2017  10/04/2017  Standard Class    VM-21685   \n",
       "9147    US-2017-165505  23/01/2017  27/01/2017  Standard Class    CB-12535   \n",
       "9148    US-2017-165505  23/01/2017  27/01/2017  Standard Class    CB-12535   \n",
       "9149    US-2017-165505  23/01/2017  27/01/2017  Standard Class    CB-12535   \n",
       "9387    US-2018-127292  19/01/2018  23/01/2018  Standard Class    RM-19375   \n",
       "9388    US-2018-127292  19/01/2018  23/01/2018  Standard Class    RM-19375   \n",
       "9389    US-2018-127292  19/01/2018  23/01/2018  Standard Class    RM-19375   \n",
       "9390    US-2018-127292  19/01/2018  23/01/2018  Standard Class    RM-19375   \n",
       "9742    CA-2016-117086  08/11/2016  12/11/2016  Standard Class    QJ-19255   \n",
       "\n",
       "           Customer Name      Segment        Country        City    State  \\\n",
       "Row ID                                                                      \n",
       "2235        Quincy Jones    Corporate  United States  Burlington  Vermont   \n",
       "5275    Stewart Visinsky     Consumer  United States  Burlington  Vermont   \n",
       "8799     Valerie Mitchum  Home Office  United States  Burlington  Vermont   \n",
       "9147    Claudia Bergmann    Corporate  United States  Burlington  Vermont   \n",
       "9148    Claudia Bergmann    Corporate  United States  Burlington  Vermont   \n",
       "9149    Claudia Bergmann    Corporate  United States  Burlington  Vermont   \n",
       "9387       Raymond Messe     Consumer  United States  Burlington  Vermont   \n",
       "9388       Raymond Messe     Consumer  United States  Burlington  Vermont   \n",
       "9389       Raymond Messe     Consumer  United States  Burlington  Vermont   \n",
       "9390       Raymond Messe     Consumer  United States  Burlington  Vermont   \n",
       "9742        Quincy Jones    Corporate  United States  Burlington  Vermont   \n",
       "\n",
       "        Postal Code Region       Product ID         Category Sub-Category  \\\n",
       "Row ID                                                                      \n",
       "2235            NaN   East  TEC-AC-10001013       Technology  Accessories   \n",
       "5275            NaN   East  FUR-CH-10000595        Furniture       Chairs   \n",
       "8799            NaN   East  TEC-PH-10002555       Technology       Phones   \n",
       "9147            NaN   East  TEC-AC-10002926       Technology  Accessories   \n",
       "9148            NaN   East  OFF-AR-10003477  Office Supplies          Art   \n",
       "9149            NaN   East  OFF-ST-10001526  Office Supplies      Storage   \n",
       "9387            NaN   East  OFF-PA-10000157  Office Supplies        Paper   \n",
       "9388            NaN   East  OFF-PA-10001970  Office Supplies        Paper   \n",
       "9389            NaN   East  OFF-AP-10000828  Office Supplies   Appliances   \n",
       "9390            NaN   East  OFF-EN-10001509  Office Supplies    Envelopes   \n",
       "9742            NaN   East  FUR-BO-10004834        Furniture    Bookcases   \n",
       "\n",
       "                                             Product Name    Sales  \n",
       "Row ID                                                              \n",
       "2235          Logitech ClearChat Comfort/USB Headset H390   205.03  \n",
       "5275                      Safco Contoured Stacking Chairs   715.20  \n",
       "8799                  Nortel Meridian M5316 Digital phone  1294.75  \n",
       "9147                Logitech Wireless Marathon Mouse M705    99.98  \n",
       "9148                                    4009 Highlighters     8.04  \n",
       "9149                Iceberg Mobile Mega Data/Printer Cart  1564.29  \n",
       "9387                                            Xerox 191    79.92  \n",
       "9388                                           Xerox 1881    12.28  \n",
       "9389                      Avanti 4.4 Cu. Ft. Refrigerator   542.94  \n",
       "9390                            Poly String Tie Envelopes     2.04  \n",
       "9742    Riverside Palais Royal Lawyers Bookcase, Royal...  4404.90  "
      ]
     },
     "execution_count": 7,
     "metadata": {},
     "output_type": "execute_result"
    }
   ],
   "source": [
    "df[df['Postal Code'].isnull()]"
   ]
  },
  {
   "cell_type": "markdown",
   "id": "91ed0469",
   "metadata": {
    "papermill": {
     "duration": 0.010374,
     "end_time": "2023-09-02T08:42:19.829082",
     "exception": false,
     "start_time": "2023-09-02T08:42:19.818708",
     "status": "completed"
    },
    "tags": []
   },
   "source": [
    "Insight:\n",
    "\n",
    "All null values are related to the postal code of the state of Vermout."
   ]
  },
  {
   "cell_type": "markdown",
   "id": "0aa997b3",
   "metadata": {
    "papermill": {
     "duration": 0.010377,
     "end_time": "2023-09-02T08:42:19.850896",
     "exception": false,
     "start_time": "2023-09-02T08:42:19.840519",
     "status": "completed"
    },
    "tags": []
   },
   "source": [
    "# **Treat Null Values**"
   ]
  },
  {
   "cell_type": "markdown",
   "id": "5442f316",
   "metadata": {
    "papermill": {
     "duration": 0.010265,
     "end_time": "2023-09-02T08:42:19.871835",
     "exception": false,
     "start_time": "2023-09-02T08:42:19.861570",
     "status": "completed"
    },
    "tags": []
   },
   "source": [
    "Fill the postal code of Vermout with 5401(I have searched for this value on google)"
   ]
  },
  {
   "cell_type": "code",
   "execution_count": 8,
   "id": "b62d09ef",
   "metadata": {
    "execution": {
     "iopub.execute_input": "2023-09-02T08:42:19.894734Z",
     "iopub.status.busy": "2023-09-02T08:42:19.894106Z",
     "iopub.status.idle": "2023-09-02T08:42:19.899630Z",
     "shell.execute_reply": "2023-09-02T08:42:19.898808Z"
    },
    "papermill": {
     "duration": 0.01925,
     "end_time": "2023-09-02T08:42:19.901598",
     "exception": false,
     "start_time": "2023-09-02T08:42:19.882348",
     "status": "completed"
    },
    "tags": []
   },
   "outputs": [],
   "source": [
    "df['Postal Code'] = df[\"Postal Code\"].fillna(5401)\n"
   ]
  },
  {
   "cell_type": "code",
   "execution_count": 9,
   "id": "be5d7c0a",
   "metadata": {
    "execution": {
     "iopub.execute_input": "2023-09-02T08:42:19.925339Z",
     "iopub.status.busy": "2023-09-02T08:42:19.924933Z",
     "iopub.status.idle": "2023-09-02T08:42:19.954743Z",
     "shell.execute_reply": "2023-09-02T08:42:19.953795Z"
    },
    "papermill": {
     "duration": 0.044444,
     "end_time": "2023-09-02T08:42:19.956783",
     "exception": false,
     "start_time": "2023-09-02T08:42:19.912339",
     "status": "completed"
    },
    "tags": []
   },
   "outputs": [
    {
     "data": {
      "text/plain": [
       "Order ID         0\n",
       "Order Date       0\n",
       "Ship Date        0\n",
       "Ship Mode        0\n",
       "Customer ID      0\n",
       "Customer Name    0\n",
       "Segment          0\n",
       "Country          0\n",
       "City             0\n",
       "State            0\n",
       "Postal Code      0\n",
       "Region           0\n",
       "Product ID       0\n",
       "Category         0\n",
       "Sub-Category     0\n",
       "Product Name     0\n",
       "Sales            0\n",
       "dtype: int64"
      ]
     },
     "execution_count": 9,
     "metadata": {},
     "output_type": "execute_result"
    }
   ],
   "source": [
    "df.isnull().sum()"
   ]
  },
  {
   "cell_type": "markdown",
   "id": "cc85399c",
   "metadata": {
    "papermill": {
     "duration": 0.010362,
     "end_time": "2023-09-02T08:42:19.977950",
     "exception": false,
     "start_time": "2023-09-02T08:42:19.967588",
     "status": "completed"
    },
    "tags": []
   },
   "source": [
    "# **Object to Date datatype Conversion**"
   ]
  },
  {
   "cell_type": "code",
   "execution_count": 10,
   "id": "48dc6a2d",
   "metadata": {
    "execution": {
     "iopub.execute_input": "2023-09-02T08:42:20.001038Z",
     "iopub.status.busy": "2023-09-02T08:42:20.000636Z",
     "iopub.status.idle": "2023-09-02T08:42:20.022968Z",
     "shell.execute_reply": "2023-09-02T08:42:20.022059Z"
    },
    "papermill": {
     "duration": 0.036577,
     "end_time": "2023-09-02T08:42:20.025268",
     "exception": false,
     "start_time": "2023-09-02T08:42:19.988691",
     "status": "completed"
    },
    "tags": []
   },
   "outputs": [],
   "source": [
    "df[\"Order Date\"] =pd.to_datetime(df[\"Order Date\"], format = \"%d/%m/%Y\")\n",
    "df[\"Ship Date\"] =pd.to_datetime(df[\"Ship Date\"], format = \"%d/%m/%Y\")"
   ]
  },
  {
   "cell_type": "code",
   "execution_count": 11,
   "id": "3554788e",
   "metadata": {
    "execution": {
     "iopub.execute_input": "2023-09-02T08:42:20.048414Z",
     "iopub.status.busy": "2023-09-02T08:42:20.048001Z",
     "iopub.status.idle": "2023-09-02T08:42:20.080424Z",
     "shell.execute_reply": "2023-09-02T08:42:20.078990Z"
    },
    "papermill": {
     "duration": 0.046793,
     "end_time": "2023-09-02T08:42:20.082995",
     "exception": false,
     "start_time": "2023-09-02T08:42:20.036202",
     "status": "completed"
    },
    "tags": []
   },
   "outputs": [
    {
     "name": "stdout",
     "output_type": "stream",
     "text": [
      "<class 'pandas.core.frame.DataFrame'>\n",
      "Int64Index: 9800 entries, 1 to 9800\n",
      "Data columns (total 17 columns):\n",
      " #   Column         Non-Null Count  Dtype         \n",
      "---  ------         --------------  -----         \n",
      " 0   Order ID       9800 non-null   object        \n",
      " 1   Order Date     9800 non-null   datetime64[ns]\n",
      " 2   Ship Date      9800 non-null   datetime64[ns]\n",
      " 3   Ship Mode      9800 non-null   object        \n",
      " 4   Customer ID    9800 non-null   object        \n",
      " 5   Customer Name  9800 non-null   object        \n",
      " 6   Segment        9800 non-null   object        \n",
      " 7   Country        9800 non-null   object        \n",
      " 8   City           9800 non-null   object        \n",
      " 9   State          9800 non-null   object        \n",
      " 10  Postal Code    9800 non-null   float64       \n",
      " 11  Region         9800 non-null   object        \n",
      " 12  Product ID     9800 non-null   object        \n",
      " 13  Category       9800 non-null   object        \n",
      " 14  Sub-Category   9800 non-null   object        \n",
      " 15  Product Name   9800 non-null   object        \n",
      " 16  Sales          9800 non-null   float64       \n",
      "dtypes: datetime64[ns](2), float64(2), object(13)\n",
      "memory usage: 1.3+ MB\n"
     ]
    }
   ],
   "source": [
    "df.info()"
   ]
  },
  {
   "cell_type": "markdown",
   "id": "b53e6882",
   "metadata": {
    "papermill": {
     "duration": 0.010486,
     "end_time": "2023-09-02T08:42:20.104474",
     "exception": false,
     "start_time": "2023-09-02T08:42:20.093988",
     "status": "completed"
    },
    "tags": []
   },
   "source": [
    "# **Questions**"
   ]
  },
  {
   "cell_type": "markdown",
   "id": "0cb54170",
   "metadata": {
    "papermill": {
     "duration": 0.010481,
     "end_time": "2023-09-02T08:42:20.125641",
     "exception": false,
     "start_time": "2023-09-02T08:42:20.115160",
     "status": "completed"
    },
    "tags": []
   },
   "source": [
    "**Q1. How many type of segments are available for sales? Which one is popular. Represent through bar chart**"
   ]
  },
  {
   "cell_type": "code",
   "execution_count": 12,
   "id": "feebc497",
   "metadata": {
    "execution": {
     "iopub.execute_input": "2023-09-02T08:42:20.149754Z",
     "iopub.status.busy": "2023-09-02T08:42:20.148761Z",
     "iopub.status.idle": "2023-09-02T08:42:20.158400Z",
     "shell.execute_reply": "2023-09-02T08:42:20.157379Z"
    },
    "papermill": {
     "duration": 0.02404,
     "end_time": "2023-09-02T08:42:20.160746",
     "exception": false,
     "start_time": "2023-09-02T08:42:20.136706",
     "status": "completed"
    },
    "tags": []
   },
   "outputs": [
    {
     "data": {
      "text/html": [
       "<div>\n",
       "<style scoped>\n",
       "    .dataframe tbody tr th:only-of-type {\n",
       "        vertical-align: middle;\n",
       "    }\n",
       "\n",
       "    .dataframe tbody tr th {\n",
       "        vertical-align: top;\n",
       "    }\n",
       "\n",
       "    .dataframe thead th {\n",
       "        text-align: right;\n",
       "    }\n",
       "</style>\n",
       "<table border=\"1\" class=\"dataframe\">\n",
       "  <thead>\n",
       "    <tr style=\"text-align: right;\">\n",
       "      <th></th>\n",
       "      <th>Segment</th>\n",
       "    </tr>\n",
       "  </thead>\n",
       "  <tbody>\n",
       "    <tr>\n",
       "      <th>Consumer</th>\n",
       "      <td>5101</td>\n",
       "    </tr>\n",
       "    <tr>\n",
       "      <th>Corporate</th>\n",
       "      <td>2953</td>\n",
       "    </tr>\n",
       "    <tr>\n",
       "      <th>Home Office</th>\n",
       "      <td>1746</td>\n",
       "    </tr>\n",
       "  </tbody>\n",
       "</table>\n",
       "</div>"
      ],
      "text/plain": [
       "             Segment\n",
       "Consumer        5101\n",
       "Corporate       2953\n",
       "Home Office     1746"
      ]
     },
     "execution_count": 12,
     "metadata": {},
     "output_type": "execute_result"
    }
   ],
   "source": [
    "seg_ty = pd.DataFrame(df['Segment'].value_counts())\n",
    "seg_ty"
   ]
  },
  {
   "cell_type": "code",
   "execution_count": 13,
   "id": "55cabad8",
   "metadata": {
    "execution": {
     "iopub.execute_input": "2023-09-02T08:42:20.184639Z",
     "iopub.status.busy": "2023-09-02T08:42:20.184251Z",
     "iopub.status.idle": "2023-09-02T08:42:20.390970Z",
     "shell.execute_reply": "2023-09-02T08:42:20.390192Z"
    },
    "papermill": {
     "duration": 0.221072,
     "end_time": "2023-09-02T08:42:20.393068",
     "exception": false,
     "start_time": "2023-09-02T08:42:20.171996",
     "status": "completed"
    },
    "tags": []
   },
   "outputs": [
    {
     "data": {
      "image/png": "[encoded data removed]",
      "text/plain": [
       "<Figure size 400x400 with 1 Axes>"
      ]
     },
     "metadata": {},
     "output_type": "display_data"
    }
   ],
   "source": [
    "plt.figure(figsize=(4,4))\n",
    "sns.barplot(seg_ty , x = seg_ty.index , y = 'Segment')\n",
    "plt.show()"
   ]
  },
  {
   "cell_type": "markdown",
   "id": "131d0a08",
   "metadata": {
    "papermill": {
     "duration": 0.010998,
     "end_time": "2023-09-02T08:42:20.415824",
     "exception": false,
     "start_time": "2023-09-02T08:42:20.404826",
     "status": "completed"
    },
    "tags": []
   },
   "source": [
    "**Q2.Find top 10 cities of USA which give maximum sales. Represent through bargraph**"
   ]
  },
  {
   "cell_type": "code",
   "execution_count": 14,
   "id": "08b200e7",
   "metadata": {
    "execution": {
     "iopub.execute_input": "2023-09-02T08:42:20.440487Z",
     "iopub.status.busy": "2023-09-02T08:42:20.439543Z",
     "iopub.status.idle": "2023-09-02T08:42:20.451118Z",
     "shell.execute_reply": "2023-09-02T08:42:20.450045Z"
    },
    "papermill": {
     "duration": 0.026299,
     "end_time": "2023-09-02T08:42:20.453448",
     "exception": false,
     "start_time": "2023-09-02T08:42:20.427149",
     "status": "completed"
    },
    "tags": []
   },
   "outputs": [
    {
     "data": {
      "text/html": [
       "<div>\n",
       "<style scoped>\n",
       "    .dataframe tbody tr th:only-of-type {\n",
       "        vertical-align: middle;\n",
       "    }\n",
       "\n",
       "    .dataframe tbody tr th {\n",
       "        vertical-align: top;\n",
       "    }\n",
       "\n",
       "    .dataframe thead th {\n",
       "        text-align: right;\n",
       "    }\n",
       "</style>\n",
       "<table border=\"1\" class=\"dataframe\">\n",
       "  <thead>\n",
       "    <tr style=\"text-align: right;\">\n",
       "      <th></th>\n",
       "      <th>City</th>\n",
       "    </tr>\n",
       "  </thead>\n",
       "  <tbody>\n",
       "    <tr>\n",
       "      <th>New York City</th>\n",
       "      <td>891</td>\n",
       "    </tr>\n",
       "    <tr>\n",
       "      <th>Los Angeles</th>\n",
       "      <td>728</td>\n",
       "    </tr>\n",
       "    <tr>\n",
       "      <th>Philadelphia</th>\n",
       "      <td>532</td>\n",
       "    </tr>\n",
       "    <tr>\n",
       "      <th>San Francisco</th>\n",
       "      <td>500</td>\n",
       "    </tr>\n",
       "    <tr>\n",
       "      <th>Seattle</th>\n",
       "      <td>426</td>\n",
       "    </tr>\n",
       "    <tr>\n",
       "      <th>Houston</th>\n",
       "      <td>374</td>\n",
       "    </tr>\n",
       "    <tr>\n",
       "      <th>Chicago</th>\n",
       "      <td>308</td>\n",
       "    </tr>\n",
       "    <tr>\n",
       "      <th>Columbus</th>\n",
       "      <td>221</td>\n",
       "    </tr>\n",
       "    <tr>\n",
       "      <th>San Diego</th>\n",
       "      <td>170</td>\n",
       "    </tr>\n",
       "    <tr>\n",
       "      <th>Springfield</th>\n",
       "      <td>161</td>\n",
       "    </tr>\n",
       "  </tbody>\n",
       "</table>\n",
       "</div>"
      ],
      "text/plain": [
       "               City\n",
       "New York City   891\n",
       "Los Angeles     728\n",
       "Philadelphia    532\n",
       "San Francisco   500\n",
       "Seattle         426\n",
       "Houston         374\n",
       "Chicago         308\n",
       "Columbus        221\n",
       "San Diego       170\n",
       "Springfield     161"
      ]
     },
     "execution_count": 14,
     "metadata": {},
     "output_type": "execute_result"
    }
   ],
   "source": [
    "max_sale = pd.DataFrame(df['City'].value_counts())[0:10]\n",
    "max_sale"
   ]
  },
  {
   "cell_type": "code",
   "execution_count": 15,
   "id": "9924f9d2",
   "metadata": {
    "execution": {
     "iopub.execute_input": "2023-09-02T08:42:20.478280Z",
     "iopub.status.busy": "2023-09-02T08:42:20.477849Z",
     "iopub.status.idle": "2023-09-02T08:42:20.718955Z",
     "shell.execute_reply": "2023-09-02T08:42:20.717673Z"
    },
    "papermill": {
     "duration": 0.256493,
     "end_time": "2023-09-02T08:42:20.721496",
     "exception": false,
     "start_time": "2023-09-02T08:42:20.465003",
     "status": "completed"
    },
    "tags": []
   },
   "outputs": [
    {
     "data": {
      "image/png": "[encoded data removed]",
      "text/plain": [
       "<Figure size 600x400 with 1 Axes>"
      ]
     },
     "metadata": {},
     "output_type": "display_data"
    }
   ],
   "source": [
    "plt.figure(figsize=(6,4))\n",
    "sns.barplot(max_sale , x = 'City', y = max_sale.index)\n",
    "plt.show()\n"
   ]
  },
  {
   "cell_type": "markdown",
   "id": "0bcbb366",
   "metadata": {
    "papermill": {
     "duration": 0.011483,
     "end_time": "2023-09-02T08:42:20.745019",
     "exception": false,
     "start_time": "2023-09-02T08:42:20.733536",
     "status": "completed"
    },
    "tags": []
   },
   "source": [
    "**Q3.Find out the average sales for consecutive year. Represent through piechart**"
   ]
  },
  {
   "cell_type": "code",
   "execution_count": 16,
   "id": "fe3d88fa",
   "metadata": {
    "execution": {
     "iopub.execute_input": "2023-09-02T08:42:20.770348Z",
     "iopub.status.busy": "2023-09-02T08:42:20.769929Z",
     "iopub.status.idle": "2023-09-02T08:42:20.780801Z",
     "shell.execute_reply": "2023-09-02T08:42:20.779726Z"
    },
    "papermill": {
     "duration": 0.025888,
     "end_time": "2023-09-02T08:42:20.782803",
     "exception": false,
     "start_time": "2023-09-02T08:42:20.756915",
     "status": "completed"
    },
    "tags": []
   },
   "outputs": [
    {
     "data": {
      "text/plain": [
       "Row ID\n",
       "1       2017\n",
       "2       2017\n",
       "3       2017\n",
       "4       2016\n",
       "5       2016\n",
       "        ... \n",
       "9796    2017\n",
       "9797    2016\n",
       "9798    2016\n",
       "9799    2016\n",
       "9800    2016\n",
       "Name: Sale Year, Length: 9800, dtype: int64"
      ]
     },
     "execution_count": 16,
     "metadata": {},
     "output_type": "execute_result"
    }
   ],
   "source": [
    "df['Sale Year'] = pd.DatetimeIndex(df['Ship Date']).year\n",
    "df['Sale Year']"
   ]
  },
  {
   "cell_type": "code",
   "execution_count": 17,
   "id": "92981eb4",
   "metadata": {
    "execution": {
     "iopub.execute_input": "2023-09-02T08:42:20.809002Z",
     "iopub.status.busy": "2023-09-02T08:42:20.808386Z",
     "iopub.status.idle": "2023-09-02T08:42:20.823516Z",
     "shell.execute_reply": "2023-09-02T08:42:20.822454Z"
    },
    "papermill": {
     "duration": 0.030675,
     "end_time": "2023-09-02T08:42:20.825542",
     "exception": false,
     "start_time": "2023-09-02T08:42:20.794867",
     "status": "completed"
    },
    "tags": []
   },
   "outputs": [
    {
     "data": {
      "text/html": [
       "<div>\n",
       "<style scoped>\n",
       "    .dataframe tbody tr th:only-of-type {\n",
       "        vertical-align: middle;\n",
       "    }\n",
       "\n",
       "    .dataframe tbody tr th {\n",
       "        vertical-align: top;\n",
       "    }\n",
       "\n",
       "    .dataframe thead th {\n",
       "        text-align: right;\n",
       "    }\n",
       "</style>\n",
       "<table border=\"1\" class=\"dataframe\">\n",
       "  <thead>\n",
       "    <tr style=\"text-align: right;\">\n",
       "      <th></th>\n",
       "      <th>Sales</th>\n",
       "    </tr>\n",
       "    <tr>\n",
       "      <th>Sale Year</th>\n",
       "      <th></th>\n",
       "    </tr>\n",
       "  </thead>\n",
       "  <tbody>\n",
       "    <tr>\n",
       "      <th>2015</th>\n",
       "      <td>245.553035</td>\n",
       "    </tr>\n",
       "    <tr>\n",
       "      <th>2016</th>\n",
       "      <td>224.341041</td>\n",
       "    </tr>\n",
       "    <tr>\n",
       "      <th>2017</th>\n",
       "      <td>238.631674</td>\n",
       "    </tr>\n",
       "    <tr>\n",
       "      <th>2018</th>\n",
       "      <td>221.522462</td>\n",
       "    </tr>\n",
       "    <tr>\n",
       "      <th>2019</th>\n",
       "      <td>122.849924</td>\n",
       "    </tr>\n",
       "  </tbody>\n",
       "</table>\n",
       "</div>"
      ],
      "text/plain": [
       "                Sales\n",
       "Sale Year            \n",
       "2015       245.553035\n",
       "2016       224.341041\n",
       "2017       238.631674\n",
       "2018       221.522462\n",
       "2019       122.849924"
      ]
     },
     "execution_count": 17,
     "metadata": {},
     "output_type": "execute_result"
    }
   ],
   "source": [
    "year_sales = pd.DataFrame(df.groupby('Sale Year')['Sales'].mean())\n",
    "year_sales"
   ]
  },
  {
   "cell_type": "code",
   "execution_count": 18,
   "id": "7a774355",
   "metadata": {
    "execution": {
     "iopub.execute_input": "2023-09-02T08:42:20.852130Z",
     "iopub.status.busy": "2023-09-02T08:42:20.851023Z",
     "iopub.status.idle": "2023-09-02T08:42:20.996567Z",
     "shell.execute_reply": "2023-09-02T08:42:20.995044Z"
    },
    "papermill": {
     "duration": 0.162095,
     "end_time": "2023-09-02T08:42:20.999820",
     "exception": false,
     "start_time": "2023-09-02T08:42:20.837725",
     "status": "completed"
    },
    "tags": []
   },
   "outputs": [
    {
     "data": {
      "image/png": "[encoded data removed]",
      "text/plain": [
       "<Figure size 600x400 with 1 Axes>"
      ]
     },
     "metadata": {},
     "output_type": "display_data"
    }
   ],
   "source": [
    "plt.figure(figsize=(6,4))\n",
    "df['Sale Year'].value_counts().plot.pie()\n",
    "plt.show()"
   ]
  },
  {
   "cell_type": "markdown",
   "id": "da5a5f6d",
   "metadata": {
    "papermill": {
     "duration": 0.020797,
     "end_time": "2023-09-02T08:42:21.042299",
     "exception": false,
     "start_time": "2023-09-02T08:42:21.021502",
     "status": "completed"
    },
    "tags": []
   },
   "source": [
    "**Q4. Represent graphically the number of Sub-category items and Find out the most selling item.**"
   ]
  },
  {
   "cell_type": "code",
   "execution_count": 19,
   "id": "522ea00b",
   "metadata": {
    "execution": {
     "iopub.execute_input": "2023-09-02T08:42:21.083136Z",
     "iopub.status.busy": "2023-09-02T08:42:21.082435Z",
     "iopub.status.idle": "2023-09-02T08:42:21.439649Z",
     "shell.execute_reply": "2023-09-02T08:42:21.438568Z"
    },
    "papermill": {
     "duration": 0.378118,
     "end_time": "2023-09-02T08:42:21.441755",
     "exception": false,
     "start_time": "2023-09-02T08:42:21.063637",
     "status": "completed"
    },
    "tags": []
   },
   "outputs": [
    {
     "data": {
      "image/png": "[encoded data removed]",
      "text/plain": [
       "<Figure size 1600x600 with 1 Axes>"
      ]
     },
     "metadata": {},
     "output_type": "display_data"
    }
   ],
   "source": [
    "plt.figure(figsize=(16,6))\n",
    "sns.countplot(x='Sub-Category',data=df,)\n",
    "plt.xticks(rotation='vertical')\n",
    "plt.show()"
   ]
  },
  {
   "cell_type": "markdown",
   "id": "be170e65",
   "metadata": {
    "papermill": {
     "duration": 0.013296,
     "end_time": "2023-09-02T08:42:21.468738",
     "exception": false,
     "start_time": "2023-09-02T08:42:21.455442",
     "status": "completed"
    },
    "tags": []
   },
   "source": [
    "**Q5. Find out top 10 highest buyer in their 4 years journey.**"
   ]
  },
  {
   "cell_type": "code",
   "execution_count": 20,
   "id": "abecbcf8",
   "metadata": {
    "execution": {
     "iopub.execute_input": "2023-09-02T08:42:21.498186Z",
     "iopub.status.busy": "2023-09-02T08:42:21.497238Z",
     "iopub.status.idle": "2023-09-02T08:42:21.508492Z",
     "shell.execute_reply": "2023-09-02T08:42:21.507440Z"
    },
    "papermill": {
     "duration": 0.02819,
     "end_time": "2023-09-02T08:42:21.510762",
     "exception": false,
     "start_time": "2023-09-02T08:42:21.482572",
     "status": "completed"
    },
    "tags": []
   },
   "outputs": [
    {
     "data": {
      "text/html": [
       "<div>\n",
       "<style scoped>\n",
       "    .dataframe tbody tr th:only-of-type {\n",
       "        vertical-align: middle;\n",
       "    }\n",
       "\n",
       "    .dataframe tbody tr th {\n",
       "        vertical-align: top;\n",
       "    }\n",
       "\n",
       "    .dataframe thead th {\n",
       "        text-align: right;\n",
       "    }\n",
       "</style>\n",
       "<table border=\"1\" class=\"dataframe\">\n",
       "  <thead>\n",
       "    <tr style=\"text-align: right;\">\n",
       "      <th></th>\n",
       "      <th>Customer Name</th>\n",
       "    </tr>\n",
       "  </thead>\n",
       "  <tbody>\n",
       "    <tr>\n",
       "      <th>William Brown</th>\n",
       "      <td>35</td>\n",
       "    </tr>\n",
       "    <tr>\n",
       "      <th>Matt Abelman</th>\n",
       "      <td>34</td>\n",
       "    </tr>\n",
       "    <tr>\n",
       "      <th>Paul Prost</th>\n",
       "      <td>34</td>\n",
       "    </tr>\n",
       "    <tr>\n",
       "      <th>John Lee</th>\n",
       "      <td>33</td>\n",
       "    </tr>\n",
       "    <tr>\n",
       "      <th>Chloris Kastensmidt</th>\n",
       "      <td>32</td>\n",
       "    </tr>\n",
       "    <tr>\n",
       "      <th>Jonathan Doherty</th>\n",
       "      <td>32</td>\n",
       "    </tr>\n",
       "    <tr>\n",
       "      <th>Seth Vernon</th>\n",
       "      <td>32</td>\n",
       "    </tr>\n",
       "    <tr>\n",
       "      <th>Emily Phan</th>\n",
       "      <td>31</td>\n",
       "    </tr>\n",
       "    <tr>\n",
       "      <th>Zuschuss Carroll</th>\n",
       "      <td>31</td>\n",
       "    </tr>\n",
       "    <tr>\n",
       "      <th>Arthur Prichep</th>\n",
       "      <td>31</td>\n",
       "    </tr>\n",
       "  </tbody>\n",
       "</table>\n",
       "</div>"
      ],
      "text/plain": [
       "                     Customer Name\n",
       "William Brown                   35\n",
       "Matt Abelman                    34\n",
       "Paul Prost                      34\n",
       "John Lee                        33\n",
       "Chloris Kastensmidt             32\n",
       "Jonathan Doherty                32\n",
       "Seth Vernon                     32\n",
       "Emily Phan                      31\n",
       "Zuschuss Carroll                31\n",
       "Arthur Prichep                  31"
      ]
     },
     "execution_count": 20,
     "metadata": {},
     "output_type": "execute_result"
    }
   ],
   "source": [
    "high_buyer = pd.DataFrame(df['Customer Name'].value_counts())[0:10]\n",
    "high_buyer"
   ]
  },
  {
   "cell_type": "code",
   "execution_count": 21,
   "id": "25697c84",
   "metadata": {
    "execution": {
     "iopub.execute_input": "2023-09-02T08:42:21.540330Z",
     "iopub.status.busy": "2023-09-02T08:42:21.539657Z",
     "iopub.status.idle": "2023-09-02T08:42:21.876299Z",
     "shell.execute_reply": "2023-09-02T08:42:21.875269Z"
    },
    "papermill": {
     "duration": 0.354472,
     "end_time": "2023-09-02T08:42:21.878807",
     "exception": false,
     "start_time": "2023-09-02T08:42:21.524335",
     "status": "completed"
    },
    "tags": []
   },
   "outputs": [
    {
     "data": {
      "image/png": "[encoded data removed]",
      "text/plain": [
       "<Figure size 2000x1000 with 1 Axes>"
      ]
     },
     "metadata": {},
     "output_type": "display_data"
    }
   ],
   "source": [
    "plt.figure(figsize=(20,10))\n",
    "sns.scatterplot(high_buyer, x=high_buyer.index, y='Customer Name')  \n",
    "plt.show()"
   ]
  },
  {
   "cell_type": "markdown",
   "id": "4fd04a00",
   "metadata": {
    "papermill": {
     "duration": 0.013601,
     "end_time": "2023-09-02T08:42:21.906735",
     "exception": false,
     "start_time": "2023-09-02T08:42:21.893134",
     "status": "completed"
    },
    "tags": []
   },
   "source": [
    "# **Conclusion**\n",
    "\n",
    "According to data visualization:\n",
    "\n",
    "**Q1. How many type of segments are available for sales? Which one is popular ?**\n",
    "\n",
    "Answer: Consumer, Corporate, Home Office and The popular one is Consumer.\n",
    "\n",
    "**Q2.Find top 10 cities of USA which gives maximum sales?**\n",
    "\n",
    "Answer:New York City, Los Angeles, Philadelphia, San Francisco, Seattle, Houston, Chicago, Columbus, San Diego and Springfield.\n",
    "\n",
    "**Q3.Find out the average sales for consecutive year.**\n",
    "\n",
    "    Answer: Year\t Average\n",
    "            2015\t245.553035\n",
    "            2016\t224.341041\n",
    "            2017\t238.631674\n",
    "            2018\t221.522462\n",
    "            2019\t122.849924\n",
    "\n",
    "**Q4. What is the most selling item?**\n",
    "\n",
    "Answer: Binder is the most selling item.\n",
    "\n",
    "**Q5. Find out top 10 highest buyer in their 4 years journey?\n",
    "**\n",
    "Answer:William Brown, Matt Abelman Paul Prost, John Lee, Chloris Kastensmidt, Jonathan Doherty, Seth Vernon, Emily Phan, Zuschuss Carroll\n",
    "and Arthur Prichep.\n",
    "\n"
   ]
  }
 ],
 "kernelspec": {
  "display_name": "Python 3",
  "language": "python",
  "name": "python3"
 },
 "language_info": {
  "codemirror_mode": {
   "name": "ipython",
   "version": 3
  },
  "file_extension": ".py",
  "mimetype": "text/x-python",
  "name": "python",
  "nbconvert_exporter": "python",
  "pygments_lexer": "ipython3",
  "version": "3.6.4"
 },
 "metadata": {
  "kernelspec": {
   "display_name": "Python 3",
   "language": "python",
   "name": "python3"
  },
  "language_info": {
   "codemirror_mode": {
    "name": "ipython",
    "version": 3
   },
   "file_extension": ".py",
   "mimetype": "text/x-python",
   "name": "python",
   "nbconvert_exporter": "python",
   "pygments_lexer": "ipython3",
   "version": "3.10.12"
  },
  "papermill": {
   "default_parameters": {},
   "duration": 15.064133,
   "end_time": "2023-09-02T08:42:22.841950",
   "environment_variables": {},
   "exception": null,
   "input_path": "__notebook__.ipynb",
   "output_path": "__notebook__.ipynb",
   "parameters": {},
   "start_time": "2023-09-02T08:42:07.777817",
   "version": "2.4.0"
  }
 },
 "nbformat": 4,
 "nbformat_minor": 5
}
